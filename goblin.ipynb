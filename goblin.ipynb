{
 "cells": [
  {
   "cell_type": "code",
   "execution_count": 86,
   "metadata": {},
   "outputs": [],
   "source": [
    "from array import *\n",
    "\n",
    "import pandas as pd\n",
    "import numpy as np\n",
    "\n",
    "df_seed_privacy_policies = pd.read_csv('data/imitation+privacy-policy.csv', header=None)\n",
    "\n",
    "# df_seed_privacy_policies"
   ]
  },
  {
   "cell_type": "code",
   "execution_count": 87,
   "metadata": {},
   "outputs": [],
   "source": [
    "import networkx as nx\n",
    "from networkx import *\n",
    "import random"
   ]
  },
  {
   "cell_type": "code",
   "execution_count": 88,
   "metadata": {},
   "outputs": [],
   "source": [
    "# Initialize\n",
    "\n",
    "seed_user_count = 24\n",
    "simulation_user_count = 100\n",
    "simulation_steps = 1000\n"
   ]
  },
  {
   "cell_type": "code",
   "execution_count": 89,
   "metadata": {},
   "outputs": [],
   "source": [
    "seed = random.seed(10)\n",
    "k = 10 # Each node is joined with its k nearest neighbors in a ring topology\n",
    "rewiring_p = 0.05 # The probability of rewiring each edge"
   ]
  },
  {
   "cell_type": "code",
   "execution_count": 90,
   "metadata": {},
   "outputs": [],
   "source": [
    "G = nx.watts_strogatz_graph(simulation_user_count, k, rewiring_p, seed)\n",
    "\n",
    "# print(\"Nodes:\", list(G.nodes()))\n",
    "# print(\"Edges:\", list(G.edges()))\n",
    "\n",
    "relations_types = 4\n",
    "\n",
    "# assigning relationships\n",
    "\n",
    "for u,v in G.edges():\n",
    "    r = random.randint(1,relations_types)\n",
    "    G[u][v]['relation'] = r"
   ]
  },
  {
   "cell_type": "code",
   "execution_count": 91,
   "metadata": {},
   "outputs": [],
   "source": [
    "# for u,v in G.edges(2):\n",
    "#     print(u, v)\n",
    "    \n",
    "# len(G.edges(1))\n",
    "\n",
    "def tag_connections(simulation_user_id):\n",
    "    limit = random.randint(1,3)\n",
    "    tagged_users = []\n",
    "    for u,v in G.edges(simulation_user_id):\n",
    "        if random.randint(0,100) < (limit* 100)/(len(G.edges(simulation_user_id))):\n",
    "            tagged_users.append(v)\n",
    "        if len(tagged_users) == limit: \n",
    "            break\n",
    "    return(tagged_users)        "
   ]
  },
  {
   "cell_type": "code",
   "execution_count": 92,
   "metadata": {},
   "outputs": [],
   "source": [
    "def get_user_policy(simulation_user_id, context, df_seed_privacy_policies):\n",
    "    seed_user_count = len(df_seed_privacy_policies.index)\n",
    "    mapped_seed_user_id = simulation_user_id%seed_user_count\n",
    "    policy = int(df_seed_privacy_policies.loc[[mapped_seed_user_id]][context*2-2])\n",
    "    imitation_attitude = int(df_seed_privacy_policies.loc[[mapped_seed_user_id]][context*2-1])\n",
    "    return(policy,imitation_attitude)\n",
    "\n",
    "# print(get_user_policy(25, 3, df_seed_privacy_policies))"
   ]
  },
  {
   "cell_type": "code",
   "execution_count": 93,
   "metadata": {},
   "outputs": [],
   "source": [
    "# df_adj = pd.read_csv('data/adjacency.csv', header=None, index_col=False)\n",
    "#df_adj = pd.DataFrame(np.loadtxt('data/adjacency.csv', dtype=int))\n",
    "#df_adj"
   ]
  },
  {
   "cell_type": "code",
   "execution_count": 94,
   "metadata": {},
   "outputs": [
    {
     "name": "stdout",
     "output_type": "stream",
     "text": [
      "(3, 1)\n",
      "3\n"
     ]
    }
   ],
   "source": [
    "print(get_user_policy(25, 3, df_seed_privacy_policies))\n",
    "print(get_user_policy(25, 3, df_seed_privacy_policies)[0])"
   ]
  },
  {
   "cell_type": "code",
   "execution_count": 95,
   "metadata": {},
   "outputs": [],
   "source": [
    "def get_reward(simulation_user_id, context, tagged_users):\n",
    "    reward = 0\n",
    "    simulation_user_policy = get_user_policy(simulation_user_id, context, df_seed_privacy_policies)\n",
    "#     print(simulation_user_policy[0])\n",
    "\n",
    "    for tagged_user_id in tagged_users:\n",
    "        tagged_user_policy = get_user_policy(tagged_user_id, context, df_seed_privacy_policies)\n",
    "#         print(tagged_user_policy[0])\n",
    "        policy_diff = simulation_user_policy[0] - tagged_user_policy[0]\n",
    "        current_reward = 1 - 0.5 * policy_diff\n",
    "        reward = reward + current_reward\n",
    "    \n",
    "    return(reward)  \n",
    "\n",
    "# temp_tagged_users = [2,3]\n",
    "# temp_tagged_users.append(2)\n",
    "# temp_tagged_users.append(3)\n",
    "# print(get_reward(1,9,temp_tagged_users))"
   ]
  },
  {
   "cell_type": "code",
   "execution_count": 96,
   "metadata": {},
   "outputs": [],
   "source": [
    "# Movement initialize\n",
    "move_prob_init = 25\n",
    "contexts_count = 16"
   ]
  },
  {
   "cell_type": "code",
   "execution_count": 97,
   "metadata": {},
   "outputs": [
    {
     "data": {
      "text/html": [
       "<div>\n",
       "<style scoped>\n",
       "    .dataframe tbody tr th:only-of-type {\n",
       "        vertical-align: middle;\n",
       "    }\n",
       "\n",
       "    .dataframe tbody tr th {\n",
       "        vertical-align: top;\n",
       "    }\n",
       "\n",
       "    .dataframe thead th {\n",
       "        text-align: right;\n",
       "    }\n",
       "</style>\n",
       "<table border=\"1\" class=\"dataframe\">\n",
       "  <thead>\n",
       "    <tr style=\"text-align: right;\">\n",
       "      <th></th>\n",
       "      <th>step</th>\n",
       "      <th>id</th>\n",
       "      <th>context</th>\n",
       "      <th>policy</th>\n",
       "      <th>tags</th>\n",
       "      <th>reward</th>\n",
       "    </tr>\n",
       "  </thead>\n",
       "  <tbody>\n",
       "    <tr>\n",
       "      <td>0</td>\n",
       "      <td>0</td>\n",
       "      <td>0</td>\n",
       "      <td>2</td>\n",
       "      <td>4</td>\n",
       "      <td>[1, 34]</td>\n",
       "      <td>1.5</td>\n",
       "    </tr>\n",
       "    <tr>\n",
       "      <td>1</td>\n",
       "      <td>0</td>\n",
       "      <td>1</td>\n",
       "      <td>5</td>\n",
       "      <td>3</td>\n",
       "      <td>[0]</td>\n",
       "      <td>0.0</td>\n",
       "    </tr>\n",
       "    <tr>\n",
       "      <td>2</td>\n",
       "      <td>0</td>\n",
       "      <td>2</td>\n",
       "      <td>14</td>\n",
       "      <td>4</td>\n",
       "      <td>[99, 6]</td>\n",
       "      <td>1.0</td>\n",
       "    </tr>\n",
       "    <tr>\n",
       "      <td>3</td>\n",
       "      <td>0</td>\n",
       "      <td>3</td>\n",
       "      <td>16</td>\n",
       "      <td>1</td>\n",
       "      <td>[4, 6]</td>\n",
       "      <td>2.0</td>\n",
       "    </tr>\n",
       "    <tr>\n",
       "      <td>4</td>\n",
       "      <td>0</td>\n",
       "      <td>4</td>\n",
       "      <td>16</td>\n",
       "      <td>1</td>\n",
       "      <td>[3, 5, 8]</td>\n",
       "      <td>3.0</td>\n",
       "    </tr>\n",
       "    <tr>\n",
       "      <td>...</td>\n",
       "      <td>...</td>\n",
       "      <td>...</td>\n",
       "      <td>...</td>\n",
       "      <td>...</td>\n",
       "      <td>...</td>\n",
       "      <td>...</td>\n",
       "    </tr>\n",
       "    <tr>\n",
       "      <td>23995</td>\n",
       "      <td>999</td>\n",
       "      <td>19</td>\n",
       "      <td>2</td>\n",
       "      <td>4</td>\n",
       "      <td>[16]</td>\n",
       "      <td>0.5</td>\n",
       "    </tr>\n",
       "    <tr>\n",
       "      <td>23996</td>\n",
       "      <td>999</td>\n",
       "      <td>20</td>\n",
       "      <td>7</td>\n",
       "      <td>3</td>\n",
       "      <td>[17]</td>\n",
       "      <td>0.0</td>\n",
       "    </tr>\n",
       "    <tr>\n",
       "      <td>23997</td>\n",
       "      <td>999</td>\n",
       "      <td>21</td>\n",
       "      <td>6</td>\n",
       "      <td>1</td>\n",
       "      <td>[26, 46]</td>\n",
       "      <td>3.5</td>\n",
       "    </tr>\n",
       "    <tr>\n",
       "      <td>23998</td>\n",
       "      <td>999</td>\n",
       "      <td>22</td>\n",
       "      <td>9</td>\n",
       "      <td>4</td>\n",
       "      <td>[20, 18, 17]</td>\n",
       "      <td>0.5</td>\n",
       "    </tr>\n",
       "    <tr>\n",
       "      <td>23999</td>\n",
       "      <td>999</td>\n",
       "      <td>23</td>\n",
       "      <td>11</td>\n",
       "      <td>1</td>\n",
       "      <td>[]</td>\n",
       "      <td>0.0</td>\n",
       "    </tr>\n",
       "  </tbody>\n",
       "</table>\n",
       "<p>24000 rows × 6 columns</p>\n",
       "</div>"
      ],
      "text/plain": [
       "      step  id context policy          tags  reward\n",
       "0        0   0       2      4       [1, 34]     1.5\n",
       "1        0   1       5      3           [0]     0.0\n",
       "2        0   2      14      4       [99, 6]     1.0\n",
       "3        0   3      16      1        [4, 6]     2.0\n",
       "4        0   4      16      1     [3, 5, 8]     3.0\n",
       "...    ...  ..     ...    ...           ...     ...\n",
       "23995  999  19       2      4          [16]     0.5\n",
       "23996  999  20       7      3          [17]     0.0\n",
       "23997  999  21       6      1      [26, 46]     3.5\n",
       "23998  999  22       9      4  [20, 18, 17]     0.5\n",
       "23999  999  23      11      1            []     0.0\n",
       "\n",
       "[24000 rows x 6 columns]"
      ]
     },
     "execution_count": 97,
     "metadata": {},
     "output_type": "execute_result"
    }
   ],
   "source": [
    "agentlocations = []\n",
    "agentpolicies = []\n",
    "\n",
    "initlocation = []\n",
    "initpolicy = []\n",
    "\n",
    "column_names = ['step', 'id', 'context', 'policy','tags','reward']\n",
    "df_context_policies  = pd.DataFrame(columns = column_names)\n",
    "df_context_policies\n",
    "\n",
    "\n",
    "# Set initial locations for each user and set a policy \n",
    "\n",
    "for a in range(0,seed_user_count):\n",
    "    #print(a)\n",
    "    context = random.randint(1,contexts_count)\n",
    "    #initlocation.insert(a, location)\n",
    "    #print(int(df.loc[[a]][initlocation[a]*2-2]))\n",
    "    policy = int(df_seed_privacy_policies.loc[[a]][context*2-2])\n",
    "    #initpolicy.insert(a, int(df.loc[[a]][location*2-2]))\n",
    "    #currentlocations.append(location)\n",
    "    #currentpolicies.append(int(df.loc[[a]][location*2-2]))\n",
    "    \n",
    "    tagged_users = tag_connections(a)\n",
    "    reward = get_reward(a, context, tagged_users)\n",
    "    \n",
    "    df_context_policies.loc[len(df_context_policies)] = [0, a, context, policy, tagged_users, reward]\n",
    "    \n",
    "#print(initlocation)    \n",
    "#print(initpolicy)    \n",
    "\n",
    "#agentlocations.append(initlocation)\n",
    "#agentpolicies.append(initpolicy)\n",
    "\n",
    "for t in range(1, simulation_steps):\n",
    "    #currentlocations = agentlocations[t-1]\n",
    "    #currentpolicies = agentpolicies[t-1]\n",
    "    for a in range(0,seed_user_count):\n",
    "        moveprob = random.randint(1,100)\n",
    "        if moveprob < move_prob_init:\n",
    "            context = random.randint(1,contexts_count)\n",
    "            policy = int(df_seed_privacy_policies.loc[[a]][context*2-2])\n",
    "        else:\n",
    "            index = a + (t-1)*seed_user_count\n",
    "            context = df_context_policies.loc[index]['context']\n",
    "            #context = df_context_policies.loc[(df_context_policies['step'] == t-1) & (df_context_policies['id'] == a)]['context']\n",
    "            policy = df_context_policies.loc[index]['policy']\n",
    "            #policy = df_context_policies.loc[(df_context_policies['step'] == t-1) & (df_context_policies['id'] == a)]['policy']\n",
    "\n",
    "        tagged_users = tag_connections(a)\n",
    "        reward = get_reward(a, context, tagged_users)\n",
    "\n",
    "        df_context_policies.loc[len(df_context_policies)] = [t, a, context, policy, tagged_users, reward]\n",
    "            \n",
    "        #currentsharingpolicies[]\n",
    "\n",
    "    #print(\"\\n Current:\", currentlocations)\n",
    "    #agentlocations.append(currentlocations)\n",
    "    #print(\"\\n All: \", agentlocations)\n",
    "    \n",
    "    #agentpolicies.append(currentpolicies)\n",
    "\n",
    "# #print(\"Locations\", agentlocations)\n",
    "# #print(\"Policies\", agentpolicies)\n",
    "\n",
    "\n",
    "\n",
    "# df_locations=pd.DataFrame(data=agentlocations)\n",
    "# #print(\"\\n\\n\", agentlocations)\n",
    "# #print(df_locations)\n",
    "\n",
    "df_context_policies"
   ]
  },
  {
   "cell_type": "code",
   "execution_count": 109,
   "metadata": {},
   "outputs": [],
   "source": [
    "# df = pd.DataFrame({'B': [0, 1, 2, 3, 4, 5, 6, 7, 8, 9, 10]})\n",
    "# df.rolling(3, min_periods=1).mean()\n",
    "\n",
    "df_context_policies.groupby(['step']).mean().to_csv('data/fixed-reward.csv')\n",
    "\n",
    "df_context_policies.groupby(['step']).mean().rolling(50,min_periods=1).mean().to_csv('data/fixed-reward-rolling.csv')"
   ]
  },
  {
   "cell_type": "code",
   "execution_count": 217,
   "metadata": {},
   "outputs": [],
   "source": [
    "# context_id = 18\n",
    "# print(df_context_policies[0:100].groupby(['context', 'policy']).mean().reset_index().query('context == @context_id').sort_values(by=['reward'], ascending=False).iloc[0]['policy'])\n",
    "\n",
    "def get_identity_policy(simulation_user_id, context, step):\n",
    "#     df_context_policies[0, step*100].groupby(['context', 'policy']).mean()\n",
    "    if len(df_context_policies[0:step*100].groupby(['context', 'policy']).mean().reset_index().query('context == @context')) > 1:\n",
    "        return(int(df_context_policies[0:step*100].groupby(['context', 'policy']).mean().reset_index().query('context == @context').sort_values(by=['reward'], ascending=False).iloc[0]['policy']))\n",
    "    else:\n",
    "        return(get_user_policy(simulation_user_id, context, df_seed_privacy_policies)[0])"
   ]
  },
  {
   "cell_type": "code",
   "execution_count": null,
   "metadata": {},
   "outputs": [],
   "source": []
  },
  {
   "cell_type": "code",
   "execution_count": 206,
   "metadata": {},
   "outputs": [
    {
     "name": "stdout",
     "output_type": "stream",
     "text": [
      "      context          tags  reward\n",
      "0           2       [1, 34]     1.5\n",
      "1           5           [0]     0.0\n",
      "2          14       [99, 6]     1.0\n",
      "3          16        [4, 6]     2.0\n",
      "4          16     [3, 5, 8]     3.0\n",
      "...       ...           ...     ...\n",
      "23995       2          [16]     0.5\n",
      "23996       7          [17]     0.0\n",
      "23997       6      [26, 46]     3.5\n",
      "23998       9  [20, 18, 17]     0.5\n",
      "23999      11            []     0.0\n",
      "\n",
      "[24000 rows x 3 columns]\n",
      "0        4\n",
      "1        3\n",
      "2        4\n",
      "3        1\n",
      "4        1\n",
      "        ..\n",
      "23995    4\n",
      "23996    3\n",
      "23997    1\n",
      "23998    4\n",
      "23999    1\n",
      "Name: policy, Length: 24000, dtype: object\n"
     ]
    }
   ],
   "source": [
    "import matplotlib.pyplot as plt  \n",
    "#df_context_policies.shape\n",
    "#df_context_policies.head\n",
    "\n",
    "#X = df_context_policies.drop(['policy', 'step', 'id'], axis=1)  \n",
    "X = df_context_policies.drop(['step','id','policy'], axis=1)  \n",
    "y = df_context_policies['policy']\n",
    "\n",
    "print(X)\n",
    "print(y)"
   ]
  },
  {
   "cell_type": "code",
   "execution_count": 15,
   "metadata": {},
   "outputs": [
    {
     "name": "stdout",
     "output_type": "stream",
     "text": [
      "      context\n",
      "10672      13\n",
      "7382        7\n",
      "17406       6\n",
      "14396      11\n",
      "9196       14\n",
      "...       ...\n",
      "16667       3\n",
      "20559      14\n",
      "19668       1\n",
      "16051       6\n",
      "7339       14\n",
      "\n",
      "[23760 rows x 1 columns] 10672    3\n",
      "7382     1\n",
      "17406    4\n",
      "14396    1\n",
      "9196     4\n",
      "        ..\n",
      "16667    3\n",
      "20559    2\n",
      "19668    4\n",
      "16051    4\n",
      "7339     3\n",
      "Name: policy, Length: 23760, dtype: int64\n"
     ]
    }
   ],
   "source": [
    "from sklearn.model_selection import train_test_split  \n",
    "y=y.astype('int')\n",
    "X_train, X_test, y_train, y_test = train_test_split(X, y, test_size = 0.01) \n",
    "\n",
    "\n",
    "print(X_train, y_train)"
   ]
  },
  {
   "cell_type": "code",
   "execution_count": 19,
   "metadata": {},
   "outputs": [
    {
     "name": "stdout",
     "output_type": "stream",
     "text": [
      "[[117   0   0   0]\n",
      " [ 25   0   0   0]\n",
      " [ 50   0   0   0]\n",
      " [ 48   0   0   0]]\n",
      "              precision    recall  f1-score   support\n",
      "\n",
      "           1       0.49      1.00      0.66       117\n",
      "           2       0.00      0.00      0.00        25\n",
      "           3       0.00      0.00      0.00        50\n",
      "           4       0.00      0.00      0.00        48\n",
      "\n",
      "    accuracy                           0.49       240\n",
      "   macro avg       0.12      0.25      0.16       240\n",
      "weighted avg       0.24      0.49      0.32       240\n",
      "\n"
     ]
    },
    {
     "name": "stderr",
     "output_type": "stream",
     "text": [
      "/Users/niravajmeri/opt/anaconda3/lib/python3.7/site-packages/sklearn/metrics/classification.py:1437: UndefinedMetricWarning: Precision and F-score are ill-defined and being set to 0.0 in labels with no predicted samples.\n",
      "  'precision', 'predicted', average, warn_for)\n"
     ]
    }
   ],
   "source": [
    "from sklearn.svm import SVC  \n",
    "svclassifier = SVC(kernel='linear')  \n",
    "# svclassifier.fit(X_train, y_train)  \n",
    "svclassifier.fit(X, y)  \n",
    "\n",
    "y_pred = svclassifier.predict(X_test)  \n",
    "\n",
    "\n",
    "from sklearn.metrics import classification_report, confusion_matrix  \n",
    "print(confusion_matrix(y_test,y_pred))  \n",
    "print(classification_report(y_test,y_pred))  "
   ]
  },
  {
   "cell_type": "code",
   "execution_count": 20,
   "metadata": {},
   "outputs": [
    {
     "data": {
      "text/plain": [
       "array([1, 1, 1, 1, 1, 1, 1, 1, 1, 1, 1, 1, 1, 1, 1, 1])"
      ]
     },
     "execution_count": 20,
     "metadata": {},
     "output_type": "execute_result"
    }
   ],
   "source": [
    "# d = {'id': [23, 22, 1], 'context': [4, 7, 1]}\n",
    "d = {'context': [1, 2, 3, 4, 5, 6, 7, 8, 9, 10, 11, 12, 13, 14, 15, 16]}\n",
    "df = pd.DataFrame(data=d)\n",
    "svclassifier.predict(df)"
   ]
  },
  {
   "cell_type": "code",
   "execution_count": 38,
   "metadata": {},
   "outputs": [],
   "source": []
  },
  {
   "cell_type": "code",
   "execution_count": 42,
   "metadata": {},
   "outputs": [
    {
     "data": {
      "text/plain": [
       "3"
      ]
     },
     "execution_count": 42,
     "metadata": {},
     "output_type": "execute_result"
    }
   ],
   "source": [
    "# G[0][4]['relation']"
   ]
  },
  {
   "cell_type": "code",
   "execution_count": null,
   "metadata": {},
   "outputs": [],
   "source": []
  }
 ],
 "metadata": {
  "kernelspec": {
   "display_name": "Python 3",
   "language": "python",
   "name": "python3"
  },
  "language_info": {
   "codemirror_mode": {
    "name": "ipython",
    "version": 3
   },
   "file_extension": ".py",
   "mimetype": "text/x-python",
   "name": "python",
   "nbconvert_exporter": "python",
   "pygments_lexer": "ipython3",
   "version": "3.7.4"
  }
 },
 "nbformat": 4,
 "nbformat_minor": 4
}
