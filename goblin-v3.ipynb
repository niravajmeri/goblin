{
 "cells": [
  {
   "cell_type": "code",
   "execution_count": 1,
   "metadata": {},
   "outputs": [],
   "source": [
    "from array import *\n",
    "\n",
    "import pandas as pd\n",
    "import numpy as np\n",
    "\n",
    "df_seed_privacy_policies = pd.read_csv('data/imitation+privacy-policy.csv', header=None)\n",
    "\n",
    "# df_seed_privacy_policies"
   ]
  },
  {
   "cell_type": "code",
   "execution_count": 2,
   "metadata": {},
   "outputs": [],
   "source": [
    "import networkx as nx\n",
    "from networkx import *\n",
    "import random"
   ]
  },
  {
   "cell_type": "code",
   "execution_count": 3,
   "metadata": {},
   "outputs": [],
   "source": [
    "# Initialize\n",
    "\n",
    "seed_user_count = 24\n",
    "simulation_user_count = 100\n",
    "simulation_steps = 1000\n"
   ]
  },
  {
   "cell_type": "code",
   "execution_count": 4,
   "metadata": {},
   "outputs": [],
   "source": [
    "seed = random.seed(10)\n",
    "k = 10 # Each node is joined with its k nearest neighbors in a ring topology\n",
    "rewiring_p = 0.05 # The probability of rewiring each edge"
   ]
  },
  {
   "cell_type": "code",
   "execution_count": 5,
   "metadata": {},
   "outputs": [],
   "source": [
    "G = nx.watts_strogatz_graph(simulation_user_count, k, rewiring_p, seed)\n",
    "\n",
    "# List nodes and edges\n",
    "# print(\"Nodes:\", list(G.nodes()))\n",
    "# print(\"Edges:\", list(G.edges()))\n",
    "\n",
    "relations_types = 4\n",
    "\n",
    "# assigning relationships\n",
    "\n",
    "for u,v in G.edges():\n",
    "    r = random.randint(1,relations_types)\n",
    "    G[u][v]['relation'] = r"
   ]
  },
  {
   "cell_type": "code",
   "execution_count": 6,
   "metadata": {},
   "outputs": [],
   "source": [
    "# for u,v in G.edges(2):\n",
    "#     print(u, v)\n",
    "    \n",
    "# len(G.edges(1))\n",
    "\n",
    "def tag_connections(simulation_user_id):\n",
    "    limit = random.randint(1,3)\n",
    "    tagged_users = []\n",
    "    for u,v in G.edges(simulation_user_id):\n",
    "        if random.randint(0,100) < (limit* 100)/(len(G.edges(simulation_user_id))):\n",
    "            tagged_users.append(v)\n",
    "        if len(tagged_users) == limit: \n",
    "            break\n",
    "    return(tagged_users)        "
   ]
  },
  {
   "cell_type": "code",
   "execution_count": 7,
   "metadata": {},
   "outputs": [],
   "source": [
    "def get_user_policy(simulation_user_id, context, df_seed_privacy_policies):\n",
    "    seed_user_count = len(df_seed_privacy_policies.index)\n",
    "    mapped_seed_user_id = simulation_user_id%seed_user_count\n",
    "    policy = int(df_seed_privacy_policies.loc[[mapped_seed_user_id]][context*2-2])\n",
    "    imitation_attitude = int(df_seed_privacy_policies.loc[[mapped_seed_user_id]][context*2-1])\n",
    "    return(policy,imitation_attitude)\n",
    "\n",
    "# print(get_user_policy(25, 3, df_seed_privacy_policies))"
   ]
  },
  {
   "cell_type": "code",
   "execution_count": 8,
   "metadata": {},
   "outputs": [],
   "source": [
    "# df_adj = pd.read_csv('data/adjacency.csv', header=None, index_col=False)\n",
    "#df_adj = pd.DataFrame(np.loadtxt('data/adjacency.csv', dtype=int))\n",
    "#df_adj"
   ]
  },
  {
   "cell_type": "code",
   "execution_count": 9,
   "metadata": {},
   "outputs": [],
   "source": [
    "# print(get_user_policy(25, 3, df_seed_privacy_policies))\n",
    "# print(get_user_policy(25, 3, df_seed_privacy_policies)[0])"
   ]
  },
  {
   "cell_type": "code",
   "execution_count": 49,
   "metadata": {},
   "outputs": [],
   "source": [
    "def get_reward(simulation_user_id, context, tagged_users):\n",
    "    reward = 0\n",
    "    simulation_user_policy = get_user_policy(simulation_user_id, context, df_seed_privacy_policies)\n",
    "#     print(simulation_user_policy[0])\n",
    "\n",
    "    for tagged_user_id in tagged_users:\n",
    "        tagged_user_policy = get_user_policy(tagged_user_id, context, df_seed_privacy_policies)\n",
    "#         print(tagged_user_policy[0])\n",
    "        policy_diff = simulation_user_policy[0] - tagged_user_policy[0]\n",
    "        current_reward = 1 - 0.5 * abs(policy_diff)\n",
    "        reward = reward + current_reward\n",
    "    \n",
    "    return(reward)  \n",
    "\n",
    "# temp_tagged_users = [2,3]\n",
    "# temp_tagged_users.append(2)\n",
    "# temp_tagged_users.append(3)\n",
    "# print(get_reward(1,9,temp_tagged_users))"
   ]
  },
  {
   "cell_type": "code",
   "execution_count": 11,
   "metadata": {},
   "outputs": [],
   "source": [
    "# Movement initialize\n",
    "move_prob_init = 25\n",
    "contexts_count = 16"
   ]
  },
  {
   "cell_type": "code",
   "execution_count": 19,
   "metadata": {},
   "outputs": [],
   "source": [
    "import matplotlib\n",
    "import seaborn as sns\n",
    "sns.set_theme(style=\"darkgrid\")"
   ]
  },
  {
   "cell_type": "code",
   "execution_count": 52,
   "metadata": {},
   "outputs": [
    {
     "name": "stdout",
     "output_type": "stream",
     "text": [
      "Collecting progress\n",
      "  Downloading progress-1.6.tar.gz (7.8 kB)\n",
      "Building wheels for collected packages: progress\n",
      "  Building wheel for progress (setup.py) ... \u001b[?25ldone\n",
      "\u001b[?25h  Created wheel for progress: filename=progress-1.6-py3-none-any.whl size=9614 sha256=d354df6c29592923d71f71ed8dd0a4348ca65f5954d0d19d97a5b3d932e4263c\n",
      "  Stored in directory: /home/vf20401/.cache/pip/wheels/bb/01/5a/c916509df9b12c6465864251dbe826def8e31a16fa7da54f08\n",
      "Successfully built progress\n",
      "Installing collected packages: progress\n",
      "Successfully installed progress-1.6\n"
     ]
    }
   ],
   "source": [
    "!pip install progress\n",
    "from progress.bar import Bar"
   ]
  },
  {
   "cell_type": "code",
   "execution_count": 53,
   "metadata": {},
   "outputs": [
    {
     "data": {
      "text/html": [
       "<div>\n",
       "<style scoped>\n",
       "    .dataframe tbody tr th:only-of-type {\n",
       "        vertical-align: middle;\n",
       "    }\n",
       "\n",
       "    .dataframe tbody tr th {\n",
       "        vertical-align: top;\n",
       "    }\n",
       "\n",
       "    .dataframe thead th {\n",
       "        text-align: right;\n",
       "    }\n",
       "</style>\n",
       "<table border=\"1\" class=\"dataframe\">\n",
       "  <thead>\n",
       "    <tr style=\"text-align: right;\">\n",
       "      <th></th>\n",
       "      <th>step</th>\n",
       "      <th>id</th>\n",
       "      <th>context</th>\n",
       "      <th>policy</th>\n",
       "      <th>tags</th>\n",
       "      <th>reward</th>\n",
       "    </tr>\n",
       "  </thead>\n",
       "  <tbody>\n",
       "    <tr>\n",
       "      <th>0</th>\n",
       "      <td>0</td>\n",
       "      <td>0</td>\n",
       "      <td>3</td>\n",
       "      <td>2</td>\n",
       "      <td>[2, 98, 4]</td>\n",
       "      <td>2.0</td>\n",
       "    </tr>\n",
       "    <tr>\n",
       "      <th>1</th>\n",
       "      <td>0</td>\n",
       "      <td>1</td>\n",
       "      <td>11</td>\n",
       "      <td>1</td>\n",
       "      <td>[]</td>\n",
       "      <td>0.0</td>\n",
       "    </tr>\n",
       "    <tr>\n",
       "      <th>2</th>\n",
       "      <td>0</td>\n",
       "      <td>2</td>\n",
       "      <td>10</td>\n",
       "      <td>3</td>\n",
       "      <td>[3, 97]</td>\n",
       "      <td>0.0</td>\n",
       "    </tr>\n",
       "    <tr>\n",
       "      <th>3</th>\n",
       "      <td>0</td>\n",
       "      <td>3</td>\n",
       "      <td>3</td>\n",
       "      <td>1</td>\n",
       "      <td>[99]</td>\n",
       "      <td>1.0</td>\n",
       "    </tr>\n",
       "    <tr>\n",
       "      <th>4</th>\n",
       "      <td>0</td>\n",
       "      <td>4</td>\n",
       "      <td>16</td>\n",
       "      <td>1</td>\n",
       "      <td>[]</td>\n",
       "      <td>0.0</td>\n",
       "    </tr>\n",
       "    <tr>\n",
       "      <th>...</th>\n",
       "      <td>...</td>\n",
       "      <td>...</td>\n",
       "      <td>...</td>\n",
       "      <td>...</td>\n",
       "      <td>...</td>\n",
       "      <td>...</td>\n",
       "    </tr>\n",
       "    <tr>\n",
       "      <th>23995</th>\n",
       "      <td>999</td>\n",
       "      <td>19</td>\n",
       "      <td>16</td>\n",
       "      <td>1</td>\n",
       "      <td>[]</td>\n",
       "      <td>0.0</td>\n",
       "    </tr>\n",
       "    <tr>\n",
       "      <th>23996</th>\n",
       "      <td>999</td>\n",
       "      <td>20</td>\n",
       "      <td>7</td>\n",
       "      <td>3</td>\n",
       "      <td>[16, 15]</td>\n",
       "      <td>0.5</td>\n",
       "    </tr>\n",
       "    <tr>\n",
       "      <th>23997</th>\n",
       "      <td>999</td>\n",
       "      <td>21</td>\n",
       "      <td>9</td>\n",
       "      <td>4</td>\n",
       "      <td>[46]</td>\n",
       "      <td>1.0</td>\n",
       "    </tr>\n",
       "    <tr>\n",
       "      <th>23998</th>\n",
       "      <td>999</td>\n",
       "      <td>22</td>\n",
       "      <td>9</td>\n",
       "      <td>4</td>\n",
       "      <td>[]</td>\n",
       "      <td>0.0</td>\n",
       "    </tr>\n",
       "    <tr>\n",
       "      <th>23999</th>\n",
       "      <td>999</td>\n",
       "      <td>23</td>\n",
       "      <td>11</td>\n",
       "      <td>1</td>\n",
       "      <td>[25, 20, 28]</td>\n",
       "      <td>3.0</td>\n",
       "    </tr>\n",
       "  </tbody>\n",
       "</table>\n",
       "<p>24000 rows × 6 columns</p>\n",
       "</div>"
      ],
      "text/plain": [
       "      step  id context policy          tags  reward\n",
       "0        0   0       3      2    [2, 98, 4]     2.0\n",
       "1        0   1      11      1            []     0.0\n",
       "2        0   2      10      3       [3, 97]     0.0\n",
       "3        0   3       3      1          [99]     1.0\n",
       "4        0   4      16      1            []     0.0\n",
       "...    ...  ..     ...    ...           ...     ...\n",
       "23995  999  19      16      1            []     0.0\n",
       "23996  999  20       7      3      [16, 15]     0.5\n",
       "23997  999  21       9      4          [46]     1.0\n",
       "23998  999  22       9      4            []     0.0\n",
       "23999  999  23      11      1  [25, 20, 28]     3.0\n",
       "\n",
       "[24000 rows x 6 columns]"
      ]
     },
     "execution_count": 53,
     "metadata": {},
     "output_type": "execute_result"
    }
   ],
   "source": [
    "agentlocations = []\n",
    "agentpolicies = []\n",
    "\n",
    "initlocation = []\n",
    "initpolicy = []\n",
    "\n",
    "column_names = ['step', 'id', 'context', 'policy','tags','reward']\n",
    "df_context_policies  = pd.DataFrame(columns = column_names)\n",
    "df_context_policies\n",
    "\n",
    "\n",
    "# Set initial locations for each user and set a policy \n",
    "\n",
    "for a in range(0,seed_user_count):\n",
    "    #print(a)\n",
    "    context = random.randint(1,contexts_count)\n",
    "    #initlocation.insert(a, location)\n",
    "    #print(int(df.loc[[a]][initlocation[a]*2-2]))\n",
    "    policy = int(df_seed_privacy_policies.loc[[a]][context*2-2])\n",
    "    #initpolicy.insert(a, int(df.loc[[a]][location*2-2]))\n",
    "    #currentlocations.append(location)\n",
    "    #currentpolicies.append(int(df.loc[[a]][location*2-2]))\n",
    "    \n",
    "    tagged_users = tag_connections(a)\n",
    "    reward = get_reward(a, context, tagged_users)\n",
    "    \n",
    "    df_context_policies.loc[len(df_context_policies)] = [0, a, context, policy, tagged_users, reward]\n",
    "    \n",
    "#print(initlocation)    \n",
    "#print(initpolicy)    \n",
    "\n",
    "#agentlocations.append(initlocation)\n",
    "#agentpolicies.append(initpolicy)\n",
    "\n",
    "bar = Bar('Processing', max=simulation_steps)\n",
    "\n",
    "for t in range(1, simulation_steps):\n",
    "    #currentlocations = agentlocations[t-1]\n",
    "    #currentpolicies = agentpolicies[t-1]\n",
    "    for a in range(0,seed_user_count):\n",
    "        moveprob = random.randint(1,100)\n",
    "        if moveprob < move_prob_init:\n",
    "            context = random.randint(1,contexts_count)\n",
    "            policy = int(df_seed_privacy_policies.loc[[a]][context*2-2])\n",
    "        else:\n",
    "            index = a + (t-1)*seed_user_count\n",
    "            context = df_context_policies.loc[index]['context']\n",
    "            #context = df_context_policies.loc[(df_context_policies['step'] == t-1) & (df_context_policies['id'] == a)]['context']\n",
    "            policy = df_context_policies.loc[index]['policy']\n",
    "            #policy = df_context_policies.loc[(df_context_policies['step'] == t-1) & (df_context_policies['id'] == a)]['policy']\n",
    "\n",
    "        tagged_users = tag_connections(a)\n",
    "        reward = get_reward(a, context, tagged_users)\n",
    "\n",
    "        df_context_policies.loc[len(df_context_policies)] = [t, a, context, policy, tagged_users, reward]\n",
    "            \n",
    "        #currentsharingpolicies[]\n",
    "    bar.next()\n",
    "\n",
    "    #print(\"\\n Current:\", currentlocations)\n",
    "    #agentlocations.append(currentlocations)\n",
    "    #print(\"\\n All: \", agentlocations)\n",
    "    \n",
    "    #agentpolicies.append(currentpolicies)\n",
    "bar.finish()\n",
    "    \n",
    "# #print(\"Locations\", agentlocations)\n",
    "# #print(\"Policies\", agentpolicies)\n",
    "\n",
    "\n",
    "\n",
    "# df_locations=pd.DataFrame(data=agentlocations)\n",
    "# #print(\"\\n\\n\", agentlocations)\n",
    "# #print(df_locations)\n",
    "\n",
    "df_context_policies"
   ]
  },
  {
   "cell_type": "code",
   "execution_count": 51,
   "metadata": {},
   "outputs": [
    {
     "name": "stdout",
     "output_type": "stream",
     "text": [
      "0.5\n",
      "(1, 2) (4, 2)\n"
     ]
    }
   ],
   "source": [
    "# Test reward function\n",
    "\n",
    "# print(get_reward(21, 6, [26,46]))\n",
    "\n",
    "# print(get_user_policy(21, 6, df_seed_privacy_policies), get_user_policy(25, 6, df_seed_privacy_policies))"
   ]
  },
  {
   "cell_type": "markdown",
   "metadata": {},
   "source": [
    "# Fixed Policy"
   ]
  },
  {
   "cell_type": "code",
   "execution_count": 57,
   "metadata": {},
   "outputs": [
    {
     "data": {
      "text/plain": [
       "[Text(0.5, 1.0, 'Fixed Policy')]"
      ]
     },
     "execution_count": 57,
     "metadata": {},
     "output_type": "execute_result"
    },
    {
     "data": {
      "image/png": "[encoded data removed]",
      "text/plain": [
       "<Figure size 432x288 with 1 Axes>"
      ]
     },
     "metadata": {},
     "output_type": "display_data"
    }
   ],
   "source": [
    "sns.lineplot(x=\"step\", y=\"reward\",\n",
    "             data=df_context_policies.groupby(['step']).mean().rolling(50,min_periods=1).mean()).set(title='Fixed Policy')"
   ]
  },
  {
   "cell_type": "code",
   "execution_count": 58,
   "metadata": {},
   "outputs": [
    {
     "data": {
      "text/html": [
       "<div>\n",
       "<style scoped>\n",
       "    .dataframe tbody tr th:only-of-type {\n",
       "        vertical-align: middle;\n",
       "    }\n",
       "\n",
       "    .dataframe tbody tr th {\n",
       "        vertical-align: top;\n",
       "    }\n",
       "\n",
       "    .dataframe thead th {\n",
       "        text-align: right;\n",
       "    }\n",
       "</style>\n",
       "<table border=\"1\" class=\"dataframe\">\n",
       "  <thead>\n",
       "    <tr style=\"text-align: right;\">\n",
       "      <th></th>\n",
       "      <th>reward</th>\n",
       "    </tr>\n",
       "  </thead>\n",
       "  <tbody>\n",
       "    <tr>\n",
       "      <th>count</th>\n",
       "      <td>24000.000000</td>\n",
       "    </tr>\n",
       "    <tr>\n",
       "      <th>mean</th>\n",
       "      <td>0.880146</td>\n",
       "    </tr>\n",
       "    <tr>\n",
       "      <th>std</th>\n",
       "      <td>0.899937</td>\n",
       "    </tr>\n",
       "    <tr>\n",
       "      <th>min</th>\n",
       "      <td>-1.500000</td>\n",
       "    </tr>\n",
       "    <tr>\n",
       "      <th>25%</th>\n",
       "      <td>0.000000</td>\n",
       "    </tr>\n",
       "    <tr>\n",
       "      <th>50%</th>\n",
       "      <td>1.000000</td>\n",
       "    </tr>\n",
       "    <tr>\n",
       "      <th>75%</th>\n",
       "      <td>1.500000</td>\n",
       "    </tr>\n",
       "    <tr>\n",
       "      <th>max</th>\n",
       "      <td>3.000000</td>\n",
       "    </tr>\n",
       "  </tbody>\n",
       "</table>\n",
       "</div>"
      ],
      "text/plain": [
       "             reward\n",
       "count  24000.000000\n",
       "mean       0.880146\n",
       "std        0.899937\n",
       "min       -1.500000\n",
       "25%        0.000000\n",
       "50%        1.000000\n",
       "75%        1.500000\n",
       "max        3.000000"
      ]
     },
     "execution_count": 58,
     "metadata": {},
     "output_type": "execute_result"
    }
   ],
   "source": [
    "df_context_policies.describe()"
   ]
  },
  {
   "cell_type": "markdown",
   "metadata": {},
   "source": [
    "## Generating CSVs for Fixed Policy Reward"
   ]
  },
  {
   "cell_type": "code",
   "execution_count": 62,
   "metadata": {},
   "outputs": [],
   "source": [
    "# Test rolling\n",
    "# df = pd.DataFrame({'B': [0, 1, 2, 3, 4, 5, 6, 7, 8, 9, 10]})\n",
    "# df.rolling(3, min_periods=1).mean()\n",
    "\n",
    "# Generate CSV: Mean for each step\n",
    "# df_context_policies.groupby(['step']).mean().to_csv('data/fixed-reward.csv')\n",
    "\n",
    "# Generate CSV: Mean for each step followed by computing a rolling mean over 50 steps\n",
    "df_context_policies.groupby(['step']).mean().rolling(50,min_periods=1).mean().to_csv('data/fixed-reward-rolling-s10-v3.csv')"
   ]
  },
  {
   "cell_type": "markdown",
   "metadata": {},
   "source": [
    "# Identity Imitating"
   ]
  },
  {
   "cell_type": "code",
   "execution_count": 75,
   "metadata": {},
   "outputs": [],
   "source": [
    "# Test for a given context\n",
    "# context_id = 18\n",
    "# print(df_context_policies[0:100].groupby(['context', 'policy']).mean().reset_index().query('context == @context_id').sort_values(by=['reward'], ascending=False).iloc[0]['policy'])\n",
    "\n",
    "\n",
    "def get_identity_policy(simulation_user_id, context, step):\n",
    "#     df_context_policies[0, step*100].groupby(['context', 'policy']).mean()\n",
    "#     if step > 100 and len(df_identity_policies[0:(step-1)*100].query('id in @connections').groupby(['context', 'identitypolicy']).mean().reset_index().query('context == @context')) > 1:\n",
    "#         return(int(df_identity_policies[0:(step-1)*100].query('id in @connections').groupby(['context', 'identitypolicy']).mean().reset_index().query('context == @context').sort_values(by=['identityreward'], ascending=False).iloc[0]['identitypolicy']))\n",
    "    if len(df_context_policies[0:(step-1)*100].groupby(['context', 'policy']).mean().reset_index().query('context == @context')) > 1:\n",
    "        return(int(df_context_policies[0:(step-1)*100].groupby(['context', 'policy']).mean().reset_index().query('context == @context').sort_values(by=['reward'], ascending=False).iloc[0]['policy']))\n",
    "    else:\n",
    "        return(get_user_policy(simulation_user_id, context, df_seed_privacy_policies)[0])"
   ]
  },
  {
   "cell_type": "code",
   "execution_count": 76,
   "metadata": {},
   "outputs": [],
   "source": [
    "def get_identity_reward(simulation_user_id, context, tagged_users, step):\n",
    "    reward = 0\n",
    "    simulation_user_policy = get_identity_policy(simulation_user_id, context, step)\n",
    "#     print(simulation_user_policy[0])\n",
    "\n",
    "    for tagged_user_id in tagged_users:\n",
    "        tagged_user_policy = get_identity_policy(tagged_user_id, context, step)\n",
    "#         print(tagged_user_policy[0])\n",
    "        policy_diff = simulation_user_policy - tagged_user_policy\n",
    "        current_reward = 1 - 0.5 * abs(policy_diff)\n",
    "        reward = reward + current_reward\n",
    "    \n",
    "    return(reward)"
   ]
  },
  {
   "cell_type": "code",
   "execution_count": 77,
   "metadata": {},
   "outputs": [
    {
     "name": "stdout",
     "output_type": "stream",
     "text": [
      "0\n",
      "1000\n",
      "2000\n",
      "3000\n",
      "4000\n",
      "5000\n",
      "6000\n",
      "7000\n",
      "8000\n",
      "9000\n",
      "10000\n",
      "11000\n",
      "12000\n",
      "13000\n",
      "14000\n",
      "15000\n",
      "16000\n",
      "17000\n",
      "18000\n",
      "19000\n",
      "20000\n",
      "21000\n",
      "22000\n",
      "23000\n"
     ]
    }
   ],
   "source": [
    "column_names = ['step', 'id', 'context', 'identitypolicy','tags','identityreward']\n",
    "df_identity_policies  = pd.DataFrame(columns = column_names)\n",
    "\n",
    "\n",
    "for index, row in df_context_policies.iterrows():\n",
    "    row['identitypolicy'] = get_identity_policy(row['id'], row['context'], row['step'])\n",
    "    row['identityreward'] = get_identity_reward(row['id'], row['context'], row['tags'], row['step'])\n",
    "#     print(get_identity_policy(row['id'], row['context'], row['step']))\n",
    "#     print(get_identity_reward(row['id'], row['context'], row['tags'], row['step']))\n",
    "    df_identity_policies.loc[len(df_identity_policies)] = [row['step'], row['id'], row['context'], row['identitypolicy'], row['tags'], row['identityreward']]\n",
    "    \n",
    "    if index % 1000 == 0:\n",
    "        print(index)"
   ]
  },
  {
   "cell_type": "markdown",
   "metadata": {},
   "source": [
    "## Plot Identity Reward"
   ]
  },
  {
   "cell_type": "code",
   "execution_count": 78,
   "metadata": {},
   "outputs": [
    {
     "data": {
      "text/plain": [
       "[Text(0.5, 1.0, 'Identity Policy')]"
      ]
     },
     "execution_count": 78,
     "metadata": {},
     "output_type": "execute_result"
    },
    {
     "data": {
      "image/png": "[encoded data removed]",
      "text/plain": [
       "<Figure size 432x288 with 1 Axes>"
      ]
     },
     "metadata": {},
     "output_type": "display_data"
    }
   ],
   "source": [
    "#  Plot Identity Reward\n",
    "\n",
    "sns.lineplot(x=\"step\", y=\"identityreward\",\n",
    "             data=df_identity_policies.groupby(['step']).mean().rolling(50,min_periods=1).mean()).set(title='Identity Policy')"
   ]
  },
  {
   "cell_type": "code",
   "execution_count": 79,
   "metadata": {},
   "outputs": [
    {
     "data": {
      "text/html": [
       "<div>\n",
       "<style scoped>\n",
       "    .dataframe tbody tr th:only-of-type {\n",
       "        vertical-align: middle;\n",
       "    }\n",
       "\n",
       "    .dataframe tbody tr th {\n",
       "        vertical-align: top;\n",
       "    }\n",
       "\n",
       "    .dataframe thead th {\n",
       "        text-align: right;\n",
       "    }\n",
       "</style>\n",
       "<table border=\"1\" class=\"dataframe\">\n",
       "  <thead>\n",
       "    <tr style=\"text-align: right;\">\n",
       "      <th></th>\n",
       "      <th>identityreward</th>\n",
       "    </tr>\n",
       "  </thead>\n",
       "  <tbody>\n",
       "    <tr>\n",
       "      <th>count</th>\n",
       "      <td>24000.000000</td>\n",
       "    </tr>\n",
       "    <tr>\n",
       "      <th>mean</th>\n",
       "      <td>1.530771</td>\n",
       "    </tr>\n",
       "    <tr>\n",
       "      <th>std</th>\n",
       "      <td>0.989886</td>\n",
       "    </tr>\n",
       "    <tr>\n",
       "      <th>min</th>\n",
       "      <td>0.000000</td>\n",
       "    </tr>\n",
       "    <tr>\n",
       "      <th>25%</th>\n",
       "      <td>1.000000</td>\n",
       "    </tr>\n",
       "    <tr>\n",
       "      <th>50%</th>\n",
       "      <td>1.000000</td>\n",
       "    </tr>\n",
       "    <tr>\n",
       "      <th>75%</th>\n",
       "      <td>2.000000</td>\n",
       "    </tr>\n",
       "    <tr>\n",
       "      <th>max</th>\n",
       "      <td>3.000000</td>\n",
       "    </tr>\n",
       "  </tbody>\n",
       "</table>\n",
       "</div>"
      ],
      "text/plain": [
       "       identityreward\n",
       "count    24000.000000\n",
       "mean         1.530771\n",
       "std          0.989886\n",
       "min          0.000000\n",
       "25%          1.000000\n",
       "50%          1.000000\n",
       "75%          2.000000\n",
       "max          3.000000"
      ]
     },
     "execution_count": 79,
     "metadata": {},
     "output_type": "execute_result"
    }
   ],
   "source": [
    "df_identity_policies.describe()"
   ]
  },
  {
   "cell_type": "markdown",
   "metadata": {},
   "source": [
    "##  Generate CSVs "
   ]
  },
  {
   "cell_type": "code",
   "execution_count": 80,
   "metadata": {},
   "outputs": [],
   "source": [
    "# df_identity_policies.head()\n",
    "\n",
    "# df_identity_policies.groupby(['step']).mean().to_csv('data/identity-reward.csv')\n",
    "\n",
    "df_identity_policies.groupby(['step']).mean().rolling(50,min_periods=1).mean().to_csv('data/identity-reward-rolling-s10-v3.csv')"
   ]
  },
  {
   "cell_type": "markdown",
   "metadata": {},
   "source": [
    "# Bond Imitating"
   ]
  },
  {
   "cell_type": "code",
   "execution_count": 81,
   "metadata": {},
   "outputs": [],
   "source": [
    "def get_connections(simulation_user_id):\n",
    "    connections = []\n",
    "    for u,v in G.edges(simulation_user_id):\n",
    "        connections.append(v)\n",
    "    return(connections)\n",
    "\n",
    "# connections = [1,2]\n",
    "# df_identity_policies[0: 2*100].query('id in @connections').groupby(['context', 'identity_policy']).mean().reset_index()\n",
    "\n",
    "def get_bond_policy(simulation_user_id, context, step):\n",
    "    connections = get_connections(simulation_user_id)\n",
    "    if step > 100 and len(df_bond_policies[0:(step-1)*100].query('id in @connections').groupby(['context', 'bondpolicy']).mean().reset_index().query('context == @context')) > 1:\n",
    "        return(int(df_bond_policies[0:(step-1)*100].query('id in @connections').groupby(['context', 'bondpolicy']).mean().reset_index().query('context == @context').sort_values(by=['bondreward'], ascending=False).iloc[0]['bondpolicy']))\n",
    "#     elif len(df_context_policies[0:(step-1)*100].groupby(['context', 'policy']).mean().reset_index().query('context == @context')) > 1:\n",
    "#         return(int(df_context_policies[0:(step-1)*100].groupby(['context', 'policy']).mean().reset_index().query('context == @context').sort_values(by=['reward'], ascending=False).iloc[0]['policy']))\n",
    "    else:\n",
    "        return(get_user_policy(simulation_user_id, context, df_seed_privacy_policies)[0])"
   ]
  },
  {
   "cell_type": "code",
   "execution_count": 82,
   "metadata": {},
   "outputs": [],
   "source": [
    "def get_bond_reward(simulation_user_id, context, tagged_users, step):\n",
    "    reward = 0\n",
    "    simulation_user_policy = get_bond_policy(simulation_user_id, context, step)\n",
    "\n",
    "    for tagged_user_id in tagged_users:\n",
    "        tagged_user_policy = get_bond_policy(tagged_user_id, context, step)\n",
    "        policy_diff = simulation_user_policy - tagged_user_policy\n",
    "        current_reward = 1 - 0.5 * abs(policy_diff)\n",
    "        reward = reward + current_reward\n",
    "    \n",
    "    return(reward)"
   ]
  },
  {
   "cell_type": "code",
   "execution_count": 83,
   "metadata": {},
   "outputs": [
    {
     "name": "stdout",
     "output_type": "stream",
     "text": [
      "0\n",
      "1000\n",
      "2000\n",
      "3000\n",
      "4000\n",
      "5000\n",
      "6000\n",
      "7000\n",
      "8000\n",
      "9000\n",
      "10000\n",
      "11000\n",
      "12000\n",
      "13000\n",
      "14000\n",
      "15000\n",
      "16000\n",
      "17000\n",
      "18000\n",
      "19000\n",
      "20000\n",
      "21000\n",
      "22000\n",
      "23000\n"
     ]
    }
   ],
   "source": [
    "column_names = ['step', 'id', 'context', 'bondpolicy','tags','bondreward']\n",
    "df_bond_policies  = pd.DataFrame(columns = column_names)\n",
    "\n",
    "\n",
    "for index, row in df_context_policies.iterrows():\n",
    "    row['bondpolicy'] = get_bond_policy(row['id'], row['context'], row['step'])\n",
    "    row['bondreward'] = get_bond_reward(row['id'], row['context'], row['tags'], row['step'])\n",
    "#     print(get_identity_policy(row['id'], row['context'], row['step']))\n",
    "#     print(get_identity_reward(row['id'], row['context'], row['tags'], row['step']))\n",
    "    df_bond_policies.loc[len(df_bond_policies)] = [row['step'], row['id'], row['context'], row['bondpolicy'], row['tags'], row['bondreward']]\n",
    "    if index % 1000==0:\n",
    "        print(index)"
   ]
  },
  {
   "cell_type": "markdown",
   "metadata": {},
   "source": [
    "## Plot Bond Reward"
   ]
  },
  {
   "cell_type": "code",
   "execution_count": 84,
   "metadata": {},
   "outputs": [
    {
     "data": {
      "text/plain": [
       "[Text(0.5, 1.0, 'Bond Policy')]"
      ]
     },
     "execution_count": 84,
     "metadata": {},
     "output_type": "execute_result"
    },
    {
     "data": {
      "image/png": "[encoded data removed]",
      "text/plain": [
       "<Figure size 432x288 with 1 Axes>"
      ]
     },
     "metadata": {},
     "output_type": "display_data"
    }
   ],
   "source": [
    "sns.lineplot(x=\"step\", y=\"bondreward\",\n",
    "             data=df_bond_policies.groupby(['step']).mean().rolling(50,min_periods=1).mean()).set(title='Bond Policy')"
   ]
  },
  {
   "cell_type": "code",
   "execution_count": 85,
   "metadata": {},
   "outputs": [
    {
     "data": {
      "text/html": [
       "<div>\n",
       "<style scoped>\n",
       "    .dataframe tbody tr th:only-of-type {\n",
       "        vertical-align: middle;\n",
       "    }\n",
       "\n",
       "    .dataframe tbody tr th {\n",
       "        vertical-align: top;\n",
       "    }\n",
       "\n",
       "    .dataframe thead th {\n",
       "        text-align: right;\n",
       "    }\n",
       "</style>\n",
       "<table border=\"1\" class=\"dataframe\">\n",
       "  <thead>\n",
       "    <tr style=\"text-align: right;\">\n",
       "      <th></th>\n",
       "      <th>bondreward</th>\n",
       "    </tr>\n",
       "  </thead>\n",
       "  <tbody>\n",
       "    <tr>\n",
       "      <th>count</th>\n",
       "      <td>24000.000000</td>\n",
       "    </tr>\n",
       "    <tr>\n",
       "      <th>mean</th>\n",
       "      <td>1.378042</td>\n",
       "    </tr>\n",
       "    <tr>\n",
       "      <th>std</th>\n",
       "      <td>0.988117</td>\n",
       "    </tr>\n",
       "    <tr>\n",
       "      <th>min</th>\n",
       "      <td>-1.500000</td>\n",
       "    </tr>\n",
       "    <tr>\n",
       "      <th>25%</th>\n",
       "      <td>1.000000</td>\n",
       "    </tr>\n",
       "    <tr>\n",
       "      <th>50%</th>\n",
       "      <td>1.000000</td>\n",
       "    </tr>\n",
       "    <tr>\n",
       "      <th>75%</th>\n",
       "      <td>2.000000</td>\n",
       "    </tr>\n",
       "    <tr>\n",
       "      <th>max</th>\n",
       "      <td>3.000000</td>\n",
       "    </tr>\n",
       "  </tbody>\n",
       "</table>\n",
       "</div>"
      ],
      "text/plain": [
       "         bondreward\n",
       "count  24000.000000\n",
       "mean       1.378042\n",
       "std        0.988117\n",
       "min       -1.500000\n",
       "25%        1.000000\n",
       "50%        1.000000\n",
       "75%        2.000000\n",
       "max        3.000000"
      ]
     },
     "execution_count": 85,
     "metadata": {},
     "output_type": "execute_result"
    }
   ],
   "source": [
    "df_bond_policies.describe()"
   ]
  },
  {
   "cell_type": "markdown",
   "metadata": {},
   "source": [
    "## Generate CSVs"
   ]
  },
  {
   "cell_type": "code",
   "execution_count": 86,
   "metadata": {},
   "outputs": [],
   "source": [
    "# df_bond_policies.groupby(['step']).mean().to_csv('data/bond-reward.csv')\n",
    "\n",
    "df_bond_policies.groupby(['step']).mean().rolling(50,min_periods=1).mean().to_csv('data/bond-reward-rolling-s10-v3.csv')"
   ]
  },
  {
   "cell_type": "code",
   "execution_count": 206,
   "metadata": {},
   "outputs": [
    {
     "name": "stdout",
     "output_type": "stream",
     "text": [
      "      context          tags  reward\n",
      "0           2       [1, 34]     1.5\n",
      "1           5           [0]     0.0\n",
      "2          14       [99, 6]     1.0\n",
      "3          16        [4, 6]     2.0\n",
      "4          16     [3, 5, 8]     3.0\n",
      "...       ...           ...     ...\n",
      "23995       2          [16]     0.5\n",
      "23996       7          [17]     0.0\n",
      "23997       6      [26, 46]     3.5\n",
      "23998       9  [20, 18, 17]     0.5\n",
      "23999      11            []     0.0\n",
      "\n",
      "[24000 rows x 3 columns]\n",
      "0        4\n",
      "1        3\n",
      "2        4\n",
      "3        1\n",
      "4        1\n",
      "        ..\n",
      "23995    4\n",
      "23996    3\n",
      "23997    1\n",
      "23998    4\n",
      "23999    1\n",
      "Name: policy, Length: 24000, dtype: object\n"
     ]
    }
   ],
   "source": [
    "\n",
    "# LEARNING -- JUNK\n",
    "\n",
    "import matplotlib.pyplot as plt  \n",
    "#df_context_policies.shape\n",
    "#df_context_policies.head\n",
    "\n",
    "#X = df_context_policies.drop(['policy', 'step', 'id'], axis=1)  \n",
    "X = df_context_policies.drop(['step','id','policy'], axis=1)  \n",
    "y = df_context_policies['policy']\n",
    "\n",
    "print(X)\n",
    "print(y)"
   ]
  },
  {
   "cell_type": "code",
   "execution_count": 15,
   "metadata": {},
   "outputs": [
    {
     "name": "stdout",
     "output_type": "stream",
     "text": [
      "      context\n",
      "10672      13\n",
      "7382        7\n",
      "17406       6\n",
      "14396      11\n",
      "9196       14\n",
      "...       ...\n",
      "16667       3\n",
      "20559      14\n",
      "19668       1\n",
      "16051       6\n",
      "7339       14\n",
      "\n",
      "[23760 rows x 1 columns] 10672    3\n",
      "7382     1\n",
      "17406    4\n",
      "14396    1\n",
      "9196     4\n",
      "        ..\n",
      "16667    3\n",
      "20559    2\n",
      "19668    4\n",
      "16051    4\n",
      "7339     3\n",
      "Name: policy, Length: 23760, dtype: int64\n"
     ]
    }
   ],
   "source": [
    "from sklearn.model_selection import train_test_split  \n",
    "y=y.astype('int')\n",
    "X_train, X_test, y_train, y_test = train_test_split(X, y, test_size = 0.01) \n",
    "\n",
    "\n",
    "print(X_train, y_train)"
   ]
  },
  {
   "cell_type": "code",
   "execution_count": 19,
   "metadata": {},
   "outputs": [
    {
     "name": "stdout",
     "output_type": "stream",
     "text": [
      "[[117   0   0   0]\n",
      " [ 25   0   0   0]\n",
      " [ 50   0   0   0]\n",
      " [ 48   0   0   0]]\n",
      "              precision    recall  f1-score   support\n",
      "\n",
      "           1       0.49      1.00      0.66       117\n",
      "           2       0.00      0.00      0.00        25\n",
      "           3       0.00      0.00      0.00        50\n",
      "           4       0.00      0.00      0.00        48\n",
      "\n",
      "    accuracy                           0.49       240\n",
      "   macro avg       0.12      0.25      0.16       240\n",
      "weighted avg       0.24      0.49      0.32       240\n",
      "\n"
     ]
    },
    {
     "name": "stderr",
     "output_type": "stream",
     "text": [
      "/Users/niravajmeri/opt/anaconda3/lib/python3.7/site-packages/sklearn/metrics/classification.py:1437: UndefinedMetricWarning: Precision and F-score are ill-defined and being set to 0.0 in labels with no predicted samples.\n",
      "  'precision', 'predicted', average, warn_for)\n"
     ]
    }
   ],
   "source": [
    "from sklearn.svm import SVC  \n",
    "svclassifier = SVC(kernel='linear')  \n",
    "# svclassifier.fit(X_train, y_train)  \n",
    "svclassifier.fit(X, y)  \n",
    "\n",
    "y_pred = svclassifier.predict(X_test)  \n",
    "\n",
    "\n",
    "from sklearn.metrics import classification_report, confusion_matrix  \n",
    "print(confusion_matrix(y_test,y_pred))  \n",
    "print(classification_report(y_test,y_pred))  "
   ]
  },
  {
   "cell_type": "code",
   "execution_count": 20,
   "metadata": {},
   "outputs": [
    {
     "data": {
      "text/plain": [
       "array([1, 1, 1, 1, 1, 1, 1, 1, 1, 1, 1, 1, 1, 1, 1, 1])"
      ]
     },
     "execution_count": 20,
     "metadata": {},
     "output_type": "execute_result"
    }
   ],
   "source": [
    "# d = {'id': [23, 22, 1], 'context': [4, 7, 1]}\n",
    "d = {'context': [1, 2, 3, 4, 5, 6, 7, 8, 9, 10, 11, 12, 13, 14, 15, 16]}\n",
    "df = pd.DataFrame(data=d)\n",
    "svclassifier.predict(df)"
   ]
  },
  {
   "cell_type": "code",
   "execution_count": 38,
   "metadata": {},
   "outputs": [],
   "source": []
  },
  {
   "cell_type": "code",
   "execution_count": 42,
   "metadata": {},
   "outputs": [
    {
     "data": {
      "text/plain": [
       "3"
      ]
     },
     "execution_count": 42,
     "metadata": {},
     "output_type": "execute_result"
    }
   ],
   "source": [
    "# G[0][4]['relation']"
   ]
  },
  {
   "cell_type": "code",
   "execution_count": null,
   "metadata": {},
   "outputs": [],
   "source": []
  }
 ],
 "metadata": {
  "kernelspec": {
   "display_name": "Python 3",
   "language": "python",
   "name": "python3"
  },
  "language_info": {
   "codemirror_mode": {
    "name": "ipython",
    "version": 3
   },
   "file_extension": ".py",
   "mimetype": "text/x-python",
   "name": "python",
   "nbconvert_exporter": "python",
   "pygments_lexer": "ipython3",
   "version": "3.8.8"
  }
 },
 "nbformat": 4,
 "nbformat_minor": 4
}
